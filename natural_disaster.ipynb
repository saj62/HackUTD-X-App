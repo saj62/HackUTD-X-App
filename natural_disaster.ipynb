{
 "cells": [
  {
   "cell_type": "code",
   "execution_count": 14,
   "metadata": {},
   "outputs": [
    {
     "data": {
      "text/html": [
       "<div>\n",
       "<style scoped>\n",
       "    .dataframe tbody tr th:only-of-type {\n",
       "        vertical-align: middle;\n",
       "    }\n",
       "\n",
       "    .dataframe tbody tr th {\n",
       "        vertical-align: top;\n",
       "    }\n",
       "\n",
       "    .dataframe thead th {\n",
       "        text-align: right;\n",
       "    }\n",
       "</style>\n",
       "<table border=\"1\" class=\"dataframe\">\n",
       "  <thead>\n",
       "    <tr style=\"text-align: right;\">\n",
       "      <th></th>\n",
       "      <th>fema_declaration_string</th>\n",
       "      <th>disaster_number</th>\n",
       "      <th>state</th>\n",
       "      <th>declaration_type</th>\n",
       "      <th>declaration_date</th>\n",
       "      <th>fy_declared</th>\n",
       "      <th>incident_type</th>\n",
       "      <th>declaration_title</th>\n",
       "      <th>ih_program_declared</th>\n",
       "      <th>ia_program_declared</th>\n",
       "      <th>...</th>\n",
       "      <th>incident_end_date</th>\n",
       "      <th>disaster_closeout_date</th>\n",
       "      <th>fips</th>\n",
       "      <th>place_code</th>\n",
       "      <th>designated_area</th>\n",
       "      <th>declaration_request_number</th>\n",
       "      <th>last_ia_filing_date</th>\n",
       "      <th>last_refresh</th>\n",
       "      <th>hash</th>\n",
       "      <th>id</th>\n",
       "    </tr>\n",
       "  </thead>\n",
       "  <tbody>\n",
       "    <tr>\n",
       "      <th>0</th>\n",
       "      <td>DR-1-GA</td>\n",
       "      <td>1</td>\n",
       "      <td>GA</td>\n",
       "      <td>DR</td>\n",
       "      <td>1953-05-02T00:00:00Z</td>\n",
       "      <td>1953</td>\n",
       "      <td>Tornado</td>\n",
       "      <td>Tornado</td>\n",
       "      <td>0</td>\n",
       "      <td>1</td>\n",
       "      <td>...</td>\n",
       "      <td>1953-05-02T00:00:00Z</td>\n",
       "      <td>1954-06-01T00:00:00Z</td>\n",
       "      <td>13000</td>\n",
       "      <td>0</td>\n",
       "      <td>Statewide</td>\n",
       "      <td>53013</td>\n",
       "      <td>NaN</td>\n",
       "      <td>2023-03-18T13:22:03Z</td>\n",
       "      <td>48af1afcc4535aa910ddb5b85eebe047dc703a6b</td>\n",
       "      <td>da5c8f17-c28f-4c41-8e06-fa8efc85aa4a</td>\n",
       "    </tr>\n",
       "    <tr>\n",
       "      <th>1</th>\n",
       "      <td>DR-2-TX</td>\n",
       "      <td>2</td>\n",
       "      <td>TX</td>\n",
       "      <td>DR</td>\n",
       "      <td>1953-05-15T00:00:00Z</td>\n",
       "      <td>1953</td>\n",
       "      <td>Tornado</td>\n",
       "      <td>Tornado &amp; Heavy Rainfall</td>\n",
       "      <td>0</td>\n",
       "      <td>1</td>\n",
       "      <td>...</td>\n",
       "      <td>1953-05-15T00:00:00Z</td>\n",
       "      <td>1958-01-01T00:00:00Z</td>\n",
       "      <td>48000</td>\n",
       "      <td>0</td>\n",
       "      <td>Statewide</td>\n",
       "      <td>53003</td>\n",
       "      <td>NaN</td>\n",
       "      <td>2023-03-18T13:22:03Z</td>\n",
       "      <td>6bbba411d294ec521683e36313c8da2992e8a857</td>\n",
       "      <td>b0b41f55-0d77-43ac-898c-3cc4a18231e6</td>\n",
       "    </tr>\n",
       "    <tr>\n",
       "      <th>2</th>\n",
       "      <td>DR-3-LA</td>\n",
       "      <td>3</td>\n",
       "      <td>LA</td>\n",
       "      <td>DR</td>\n",
       "      <td>1953-05-29T00:00:00Z</td>\n",
       "      <td>1953</td>\n",
       "      <td>Flood</td>\n",
       "      <td>Flood</td>\n",
       "      <td>0</td>\n",
       "      <td>1</td>\n",
       "      <td>...</td>\n",
       "      <td>1953-05-29T00:00:00Z</td>\n",
       "      <td>1960-02-01T00:00:00Z</td>\n",
       "      <td>22000</td>\n",
       "      <td>0</td>\n",
       "      <td>Statewide</td>\n",
       "      <td>53005</td>\n",
       "      <td>NaN</td>\n",
       "      <td>2023-03-18T13:22:03Z</td>\n",
       "      <td>5b2fa18b404bdcf0d3038cd17f1aa995d5412f48</td>\n",
       "      <td>9fd9401d-c76c-43c3-b42a-6a4ae5139ec0</td>\n",
       "    </tr>\n",
       "    <tr>\n",
       "      <th>3</th>\n",
       "      <td>DR-4-MI</td>\n",
       "      <td>4</td>\n",
       "      <td>MI</td>\n",
       "      <td>DR</td>\n",
       "      <td>1953-06-02T00:00:00Z</td>\n",
       "      <td>1953</td>\n",
       "      <td>Tornado</td>\n",
       "      <td>Tornado</td>\n",
       "      <td>0</td>\n",
       "      <td>1</td>\n",
       "      <td>...</td>\n",
       "      <td>1953-06-02T00:00:00Z</td>\n",
       "      <td>1956-02-01T00:00:00Z</td>\n",
       "      <td>26000</td>\n",
       "      <td>0</td>\n",
       "      <td>Statewide</td>\n",
       "      <td>53004</td>\n",
       "      <td>NaN</td>\n",
       "      <td>2023-03-18T13:22:03Z</td>\n",
       "      <td>403164346eb22263810402e8b67f1712f1574ad5</td>\n",
       "      <td>67324f38-1f00-4bbc-aeda-5194d1befad6</td>\n",
       "    </tr>\n",
       "    <tr>\n",
       "      <th>4</th>\n",
       "      <td>DR-5-MT</td>\n",
       "      <td>5</td>\n",
       "      <td>MT</td>\n",
       "      <td>DR</td>\n",
       "      <td>1953-06-06T00:00:00Z</td>\n",
       "      <td>1953</td>\n",
       "      <td>Flood</td>\n",
       "      <td>Floods</td>\n",
       "      <td>0</td>\n",
       "      <td>1</td>\n",
       "      <td>...</td>\n",
       "      <td>1953-06-06T00:00:00Z</td>\n",
       "      <td>1955-12-01T00:00:00Z</td>\n",
       "      <td>30000</td>\n",
       "      <td>0</td>\n",
       "      <td>Statewide</td>\n",
       "      <td>53006</td>\n",
       "      <td>NaN</td>\n",
       "      <td>2023-03-18T13:22:03Z</td>\n",
       "      <td>8c775d2ce843a8eba2417f9716ba5c75fe0e53f3</td>\n",
       "      <td>e3853916-c7a2-4557-ad8e-60a42d369a61</td>\n",
       "    </tr>\n",
       "    <tr>\n",
       "      <th>5</th>\n",
       "      <td>DR-6-MI</td>\n",
       "      <td>6</td>\n",
       "      <td>MI</td>\n",
       "      <td>DR</td>\n",
       "      <td>1953-06-09T00:00:00Z</td>\n",
       "      <td>1953</td>\n",
       "      <td>Tornado</td>\n",
       "      <td>Tornado</td>\n",
       "      <td>0</td>\n",
       "      <td>1</td>\n",
       "      <td>...</td>\n",
       "      <td>1953-06-09T00:00:00Z</td>\n",
       "      <td>1956-03-30T00:00:00Z</td>\n",
       "      <td>26000</td>\n",
       "      <td>0</td>\n",
       "      <td>Statewide</td>\n",
       "      <td>53007</td>\n",
       "      <td>NaN</td>\n",
       "      <td>2023-03-18T13:22:03Z</td>\n",
       "      <td>7c4aed555c671a56be96b52ef381cbf77f5a0ffb</td>\n",
       "      <td>9c154074-6937-473b-8b22-8fe3f54c9998</td>\n",
       "    </tr>\n",
       "    <tr>\n",
       "      <th>6</th>\n",
       "      <td>DR-8-IA</td>\n",
       "      <td>8</td>\n",
       "      <td>IA</td>\n",
       "      <td>DR</td>\n",
       "      <td>1953-06-11T00:00:00Z</td>\n",
       "      <td>1953</td>\n",
       "      <td>Flood</td>\n",
       "      <td>Flood</td>\n",
       "      <td>0</td>\n",
       "      <td>1</td>\n",
       "      <td>...</td>\n",
       "      <td>1953-06-11T00:00:00Z</td>\n",
       "      <td>1955-11-01T00:00:00Z</td>\n",
       "      <td>19000</td>\n",
       "      <td>0</td>\n",
       "      <td>Statewide</td>\n",
       "      <td>53008</td>\n",
       "      <td>NaN</td>\n",
       "      <td>2023-03-18T13:22:03Z</td>\n",
       "      <td>84c3cb7dc6a8de3f96ff4a181969c463f924fd08</td>\n",
       "      <td>0d456d0c-8aa5-4fe8-8ee0-44a2d2dd742c</td>\n",
       "    </tr>\n",
       "    <tr>\n",
       "      <th>7</th>\n",
       "      <td>DR-7-MA</td>\n",
       "      <td>7</td>\n",
       "      <td>MA</td>\n",
       "      <td>DR</td>\n",
       "      <td>1953-06-11T00:00:00Z</td>\n",
       "      <td>1953</td>\n",
       "      <td>Tornado</td>\n",
       "      <td>Tornado</td>\n",
       "      <td>0</td>\n",
       "      <td>1</td>\n",
       "      <td>...</td>\n",
       "      <td>1953-06-11T00:00:00Z</td>\n",
       "      <td>1956-06-01T00:00:00Z</td>\n",
       "      <td>25000</td>\n",
       "      <td>0</td>\n",
       "      <td>Statewide</td>\n",
       "      <td>53009</td>\n",
       "      <td>NaN</td>\n",
       "      <td>2023-03-18T13:22:03Z</td>\n",
       "      <td>07afc590f5515b8bce699454d205b7aa46297190</td>\n",
       "      <td>7c0a5849-631d-4170-93a3-7c4306dde9c8</td>\n",
       "    </tr>\n",
       "    <tr>\n",
       "      <th>8</th>\n",
       "      <td>DR-9-TX</td>\n",
       "      <td>9</td>\n",
       "      <td>TX</td>\n",
       "      <td>DR</td>\n",
       "      <td>1953-06-19T00:00:00Z</td>\n",
       "      <td>1953</td>\n",
       "      <td>Flood</td>\n",
       "      <td>Flood</td>\n",
       "      <td>0</td>\n",
       "      <td>1</td>\n",
       "      <td>...</td>\n",
       "      <td>1953-06-19T00:00:00Z</td>\n",
       "      <td>1958-01-01T00:00:00Z</td>\n",
       "      <td>48000</td>\n",
       "      <td>0</td>\n",
       "      <td>Statewide</td>\n",
       "      <td>53010</td>\n",
       "      <td>NaN</td>\n",
       "      <td>2023-03-18T13:22:03Z</td>\n",
       "      <td>2efe53c0051ff2f4af480b60b0d94ad6f1fe5611</td>\n",
       "      <td>2277957b-7a84-4abf-9e05-5fd66cbda7b3</td>\n",
       "    </tr>\n",
       "    <tr>\n",
       "      <th>9</th>\n",
       "      <td>DR-11-NH</td>\n",
       "      <td>11</td>\n",
       "      <td>NH</td>\n",
       "      <td>DR</td>\n",
       "      <td>1953-07-02T00:00:00Z</td>\n",
       "      <td>1953</td>\n",
       "      <td>Fire</td>\n",
       "      <td>Forest Fire</td>\n",
       "      <td>0</td>\n",
       "      <td>1</td>\n",
       "      <td>...</td>\n",
       "      <td>1953-07-02T00:00:00Z</td>\n",
       "      <td>1956-02-01T00:00:00Z</td>\n",
       "      <td>33000</td>\n",
       "      <td>0</td>\n",
       "      <td>Statewide</td>\n",
       "      <td>53011</td>\n",
       "      <td>NaN</td>\n",
       "      <td>2023-03-18T13:22:03Z</td>\n",
       "      <td>942572c0d5e6acb5766fe079af4f9989ec70ffba</td>\n",
       "      <td>c7799d1d-70a7-4b5c-ae77-7dbc65d9be40</td>\n",
       "    </tr>\n",
       "  </tbody>\n",
       "</table>\n",
       "<p>10 rows × 23 columns</p>\n",
       "</div>"
      ],
      "text/plain": [
       "  fema_declaration_string  disaster_number state declaration_type  \\\n",
       "0                 DR-1-GA                1    GA               DR   \n",
       "1                 DR-2-TX                2    TX               DR   \n",
       "2                 DR-3-LA                3    LA               DR   \n",
       "3                 DR-4-MI                4    MI               DR   \n",
       "4                 DR-5-MT                5    MT               DR   \n",
       "5                 DR-6-MI                6    MI               DR   \n",
       "6                 DR-8-IA                8    IA               DR   \n",
       "7                 DR-7-MA                7    MA               DR   \n",
       "8                 DR-9-TX                9    TX               DR   \n",
       "9                DR-11-NH               11    NH               DR   \n",
       "\n",
       "       declaration_date  fy_declared incident_type         declaration_title  \\\n",
       "0  1953-05-02T00:00:00Z         1953       Tornado                   Tornado   \n",
       "1  1953-05-15T00:00:00Z         1953       Tornado  Tornado & Heavy Rainfall   \n",
       "2  1953-05-29T00:00:00Z         1953         Flood                     Flood   \n",
       "3  1953-06-02T00:00:00Z         1953       Tornado                   Tornado   \n",
       "4  1953-06-06T00:00:00Z         1953         Flood                    Floods   \n",
       "5  1953-06-09T00:00:00Z         1953       Tornado                   Tornado   \n",
       "6  1953-06-11T00:00:00Z         1953         Flood                     Flood   \n",
       "7  1953-06-11T00:00:00Z         1953       Tornado                   Tornado   \n",
       "8  1953-06-19T00:00:00Z         1953         Flood                     Flood   \n",
       "9  1953-07-02T00:00:00Z         1953          Fire               Forest Fire   \n",
       "\n",
       "   ih_program_declared  ia_program_declared  ...     incident_end_date  \\\n",
       "0                    0                    1  ...  1953-05-02T00:00:00Z   \n",
       "1                    0                    1  ...  1953-05-15T00:00:00Z   \n",
       "2                    0                    1  ...  1953-05-29T00:00:00Z   \n",
       "3                    0                    1  ...  1953-06-02T00:00:00Z   \n",
       "4                    0                    1  ...  1953-06-06T00:00:00Z   \n",
       "5                    0                    1  ...  1953-06-09T00:00:00Z   \n",
       "6                    0                    1  ...  1953-06-11T00:00:00Z   \n",
       "7                    0                    1  ...  1953-06-11T00:00:00Z   \n",
       "8                    0                    1  ...  1953-06-19T00:00:00Z   \n",
       "9                    0                    1  ...  1953-07-02T00:00:00Z   \n",
       "\n",
       "   disaster_closeout_date   fips place_code designated_area  \\\n",
       "0    1954-06-01T00:00:00Z  13000          0       Statewide   \n",
       "1    1958-01-01T00:00:00Z  48000          0       Statewide   \n",
       "2    1960-02-01T00:00:00Z  22000          0       Statewide   \n",
       "3    1956-02-01T00:00:00Z  26000          0       Statewide   \n",
       "4    1955-12-01T00:00:00Z  30000          0       Statewide   \n",
       "5    1956-03-30T00:00:00Z  26000          0       Statewide   \n",
       "6    1955-11-01T00:00:00Z  19000          0       Statewide   \n",
       "7    1956-06-01T00:00:00Z  25000          0       Statewide   \n",
       "8    1958-01-01T00:00:00Z  48000          0       Statewide   \n",
       "9    1956-02-01T00:00:00Z  33000          0       Statewide   \n",
       "\n",
       "   declaration_request_number  last_ia_filing_date          last_refresh  \\\n",
       "0                       53013                  NaN  2023-03-18T13:22:03Z   \n",
       "1                       53003                  NaN  2023-03-18T13:22:03Z   \n",
       "2                       53005                  NaN  2023-03-18T13:22:03Z   \n",
       "3                       53004                  NaN  2023-03-18T13:22:03Z   \n",
       "4                       53006                  NaN  2023-03-18T13:22:03Z   \n",
       "5                       53007                  NaN  2023-03-18T13:22:03Z   \n",
       "6                       53008                  NaN  2023-03-18T13:22:03Z   \n",
       "7                       53009                  NaN  2023-03-18T13:22:03Z   \n",
       "8                       53010                  NaN  2023-03-18T13:22:03Z   \n",
       "9                       53011                  NaN  2023-03-18T13:22:03Z   \n",
       "\n",
       "                                       hash  \\\n",
       "0  48af1afcc4535aa910ddb5b85eebe047dc703a6b   \n",
       "1  6bbba411d294ec521683e36313c8da2992e8a857   \n",
       "2  5b2fa18b404bdcf0d3038cd17f1aa995d5412f48   \n",
       "3  403164346eb22263810402e8b67f1712f1574ad5   \n",
       "4  8c775d2ce843a8eba2417f9716ba5c75fe0e53f3   \n",
       "5  7c4aed555c671a56be96b52ef381cbf77f5a0ffb   \n",
       "6  84c3cb7dc6a8de3f96ff4a181969c463f924fd08   \n",
       "7  07afc590f5515b8bce699454d205b7aa46297190   \n",
       "8  2efe53c0051ff2f4af480b60b0d94ad6f1fe5611   \n",
       "9  942572c0d5e6acb5766fe079af4f9989ec70ffba   \n",
       "\n",
       "                                     id  \n",
       "0  da5c8f17-c28f-4c41-8e06-fa8efc85aa4a  \n",
       "1  b0b41f55-0d77-43ac-898c-3cc4a18231e6  \n",
       "2  9fd9401d-c76c-43c3-b42a-6a4ae5139ec0  \n",
       "3  67324f38-1f00-4bbc-aeda-5194d1befad6  \n",
       "4  e3853916-c7a2-4557-ad8e-60a42d369a61  \n",
       "5  9c154074-6937-473b-8b22-8fe3f54c9998  \n",
       "6  0d456d0c-8aa5-4fe8-8ee0-44a2d2dd742c  \n",
       "7  7c0a5849-631d-4170-93a3-7c4306dde9c8  \n",
       "8  2277957b-7a84-4abf-9e05-5fd66cbda7b3  \n",
       "9  c7799d1d-70a7-4b5c-ae77-7dbc65d9be40  \n",
       "\n",
       "[10 rows x 23 columns]"
      ]
     },
     "execution_count": 14,
     "metadata": {},
     "output_type": "execute_result"
    }
   ],
   "source": [
    "import numpy as np\n",
    "import pandas as pd\n",
    "import os\n",
    "import seaborn as sns\n",
    "import matplotlib as plt\n",
    "\n",
    "df = pd.read_csv('/Users/zora/desktop/datasets/natural_disasters/us_disaster_declarations.csv')\n",
    "df.head(10)"
   ]
  },
  {
   "cell_type": "code",
   "execution_count": 15,
   "metadata": {},
   "outputs": [
    {
     "name": "stdout",
     "output_type": "stream",
     "text": [
      "<class 'pandas.core.frame.DataFrame'>\n",
      "RangeIndex: 64092 entries, 0 to 64091\n",
      "Data columns (total 23 columns):\n",
      " #   Column                      Non-Null Count  Dtype \n",
      "---  ------                      --------------  ----- \n",
      " 0   fema_declaration_string     64092 non-null  object\n",
      " 1   disaster_number             64092 non-null  int64 \n",
      " 2   state                       64092 non-null  object\n",
      " 3   declaration_type            64092 non-null  object\n",
      " 4   declaration_date            64092 non-null  object\n",
      " 5   fy_declared                 64092 non-null  int64 \n",
      " 6   incident_type               64092 non-null  object\n",
      " 7   declaration_title           64092 non-null  object\n",
      " 8   ih_program_declared         64092 non-null  int64 \n",
      " 9   ia_program_declared         64092 non-null  int64 \n",
      " 10  pa_program_declared         64092 non-null  int64 \n",
      " 11  hm_program_declared         64092 non-null  int64 \n",
      " 12  incident_begin_date         64092 non-null  object\n",
      " 13  incident_end_date           55682 non-null  object\n",
      " 14  disaster_closeout_date      48912 non-null  object\n",
      " 15  fips                        64092 non-null  int64 \n",
      " 16  place_code                  64092 non-null  int64 \n",
      " 17  designated_area             64092 non-null  object\n",
      " 18  declaration_request_number  64092 non-null  int64 \n",
      " 19  last_ia_filing_date         17753 non-null  object\n",
      " 20  last_refresh                64092 non-null  object\n",
      " 21  hash                        64092 non-null  object\n",
      " 22  id                          64092 non-null  object\n",
      "dtypes: int64(9), object(14)\n",
      "memory usage: 11.2+ MB\n"
     ]
    }
   ],
   "source": [
    "df.info()"
   ]
  },
  {
   "cell_type": "code",
   "execution_count": 16,
   "metadata": {},
   "outputs": [
    {
     "data": {
      "text/plain": [
       "<seaborn.axisgrid.PairGrid at 0x148099850>"
      ]
     },
     "execution_count": 16,
     "metadata": {},
     "output_type": "execute_result"
    }
   ],
   "source": [
    "sns.pairplot(df[['disaster_number','fy_declared','incident_type','declaration_request_number']])"
   ]
  },
  {
   "cell_type": "code",
   "execution_count": null,
   "metadata": {},
   "outputs": [
    {
     "name": "stdout",
     "output_type": "stream",
     "text": [
      "Types of Disasters reported:\n",
      "\n",
      " ['Tornado' 'Flood' 'Fire' 'Other' 'Earthquake' 'Hurricane'\n",
      " 'Volcanic Eruption' 'Severe Storm' 'Toxic Substances' 'Typhoon' 'Drought'\n",
      " 'Dam/Levee Break' 'Snowstorm' 'Severe Ice Storm' 'Freezing'\n",
      " 'Coastal Storm' 'Fishing Losses' 'Mud/Landslide' 'Human Cause'\n",
      " 'Terrorist' 'Tsunami' 'Chemical' 'Biological' 'Tropical Storm'\n",
      " 'Winter Storm']\n",
      "Occurrences:\n",
      "\n",
      " incident_type\n",
      "Severe Storm         17490\n",
      "Hurricane            13045\n",
      "Flood                10693\n",
      "Biological            7857\n",
      "Snowstorm             3707\n",
      "Fire                  3615\n",
      "Severe Ice Storm      2942\n",
      "Tornado               1569\n",
      "Drought               1292\n",
      "Coastal Storm          637\n",
      "Other                  307\n",
      "Freezing               301\n",
      "Earthquake             228\n",
      "Typhoon                130\n",
      "Tropical Storm          54\n",
      "Volcanic Eruption       51\n",
      "Winter Storm            43\n",
      "Fishing Losses          42\n",
      "Mud/Landslide           37\n",
      "Dam/Levee Break         13\n",
      "Tsunami                  9\n",
      "Chemical                 9\n",
      "Toxic Substances         9\n",
      "Human Cause              7\n",
      "Terrorist                5\n",
      "Name: count, dtype: int64\n"
     ]
    }
   ],
   "source": [
    "disaster_types = df['incident_type'].unique()\n",
    "print(\"Types of Disasters reported:\\n\\n\", disaster_types)\n",
    "print(\"Occurrences:\\n\\n\",df['incident_type'].value_counts())"
   ]
  },
  {
   "cell_type": "code",
   "execution_count": null,
   "metadata": {},
   "outputs": [
    {
     "name": "stderr",
     "output_type": "stream",
     "text": [
      "/var/folders/3g/d7474w292nlfzccqcql2xs500000gn/T/ipykernel_7030/783982019.py:2: UserWarning: \n",
      "\n",
      "`distplot` is a deprecated function and will be removed in seaborn v0.14.0.\n",
      "\n",
      "Please adapt your code to use either `displot` (a figure-level function with\n",
      "similar flexibility) or `histplot` (an axes-level function for histograms).\n",
      "\n",
      "For a guide to updating your code to use the new functions, please see\n",
      "https://gist.github.com/mwaskom/de44147ed2974457ad6372750bbe5751\n",
      "\n",
      "  sns.distplot(df['incident_type'].value_counts());\n"
     ]
    },
    {
     "data": {
      "image/png": "[encoded data removed]",
      "text/plain": [
       "<Figure size 1000x600 with 1 Axes>"
      ]
     },
     "metadata": {},
     "output_type": "display_data"
    }
   ],
   "source": [
    "plt.pyplot.figure(figsize=(10,6))\n",
    "sns.distplot(df['incident_type'].value_counts());"
   ]
  },
  {
   "cell_type": "code",
   "execution_count": null,
   "metadata": {},
   "outputs": [
    {
     "data": {
      "text/plain": [
       "<Axes: xlabel='top', ylabel='freq'>"
      ]
     },
     "execution_count": 7,
     "metadata": {},
     "output_type": "execute_result"
    },
    {
     "data": {
      "image/png": "[encoded data removed]",
      "text/plain": [
       "<Figure size 900x600 with 1 Axes>"
      ]
     },
     "metadata": {},
     "output_type": "display_data"
    }
   ],
   "source": [
    "m=df[['fy_declared','incident_type']].groupby('fy_declared').describe()['incident_type'].reset_index()\n",
    "plt.pyplot.figure(figsize=(9,6))\n",
    "sns.barplot(x='top',y='freq',data =m)"
   ]
  },
  {
   "cell_type": "code",
   "execution_count": null,
   "metadata": {},
   "outputs": [
    {
     "data": {
      "text/html": [
       "<div>\n",
       "<style scoped>\n",
       "    .dataframe tbody tr th:only-of-type {\n",
       "        vertical-align: middle;\n",
       "    }\n",
       "\n",
       "    .dataframe tbody tr th {\n",
       "        vertical-align: top;\n",
       "    }\n",
       "\n",
       "    .dataframe thead th {\n",
       "        text-align: right;\n",
       "    }\n",
       "</style>\n",
       "<table border=\"1\" class=\"dataframe\">\n",
       "  <thead>\n",
       "    <tr style=\"text-align: right;\">\n",
       "      <th></th>\n",
       "      <th>fy_declared</th>\n",
       "      <th>count</th>\n",
       "    </tr>\n",
       "  </thead>\n",
       "  <tbody>\n",
       "    <tr>\n",
       "      <th>0</th>\n",
       "      <td>2020</td>\n",
       "      <td>9490</td>\n",
       "    </tr>\n",
       "    <tr>\n",
       "      <th>1</th>\n",
       "      <td>2005</td>\n",
       "      <td>4692</td>\n",
       "    </tr>\n",
       "    <tr>\n",
       "      <th>2</th>\n",
       "      <td>2011</td>\n",
       "      <td>2684</td>\n",
       "    </tr>\n",
       "    <tr>\n",
       "      <th>3</th>\n",
       "      <td>2008</td>\n",
       "      <td>2430</td>\n",
       "    </tr>\n",
       "    <tr>\n",
       "      <th>4</th>\n",
       "      <td>2021</td>\n",
       "      <td>2158</td>\n",
       "    </tr>\n",
       "    <tr>\n",
       "      <th>5</th>\n",
       "      <td>2019</td>\n",
       "      <td>1910</td>\n",
       "    </tr>\n",
       "    <tr>\n",
       "      <th>6</th>\n",
       "      <td>2004</td>\n",
       "      <td>1863</td>\n",
       "    </tr>\n",
       "    <tr>\n",
       "      <th>7</th>\n",
       "      <td>2017</td>\n",
       "      <td>1835</td>\n",
       "    </tr>\n",
       "    <tr>\n",
       "      <th>8</th>\n",
       "      <td>1993</td>\n",
       "      <td>1773</td>\n",
       "    </tr>\n",
       "    <tr>\n",
       "      <th>9</th>\n",
       "      <td>1996</td>\n",
       "      <td>1750</td>\n",
       "    </tr>\n",
       "  </tbody>\n",
       "</table>\n",
       "</div>"
      ],
      "text/plain": [
       "   fy_declared  count\n",
       "0         2020   9490\n",
       "1         2005   4692\n",
       "2         2011   2684\n",
       "3         2008   2430\n",
       "4         2021   2158\n",
       "5         2019   1910\n",
       "6         2004   1863\n",
       "7         2017   1835\n",
       "8         1993   1773\n",
       "9         1996   1750"
      ]
     },
     "execution_count": 8,
     "metadata": {},
     "output_type": "execute_result"
    }
   ],
   "source": [
    "m=df['fy_declared'].value_counts().reset_index()\n",
    "m.head(10)"
   ]
  },
  {
   "cell_type": "code",
   "execution_count": null,
   "metadata": {},
   "outputs": [
    {
     "ename": "KeyError",
     "evalue": "\"['index'] not in index\"",
     "output_type": "error",
     "traceback": [
      "\u001b[0;31m---------------------------------------------------------------------------\u001b[0m",
      "\u001b[0;31mKeyError\u001b[0m                                  Traceback (most recent call last)",
      "\u001b[1;32m/Users/zora/Documents/HackUTD-X-App/natural_disaster.ipynb Cell 8\u001b[0m line \u001b[0;36m1\n\u001b[0;32m----> <a href='vscode-notebook-cell:/Users/zora/Documents/HackUTD-X-App/natural_disaster.ipynb#X20sZmlsZQ%3D%3D?line=0'>1</a>\u001b[0m sns\u001b[39m.\u001b[39;49mlmplot(x\u001b[39m=\u001b[39;49m\u001b[39m'\u001b[39;49m\u001b[39mindex\u001b[39;49m\u001b[39m'\u001b[39;49m,y\u001b[39m=\u001b[39;49m\u001b[39m'\u001b[39;49m\u001b[39mfy_declared\u001b[39;49m\u001b[39m'\u001b[39;49m,data\u001b[39m=\u001b[39;49mm\u001b[39m.\u001b[39;49msort_values(by\u001b[39m=\u001b[39;49m\u001b[39m'\u001b[39;49m\u001b[39mfy_declared\u001b[39;49m\u001b[39m'\u001b[39;49m),\n\u001b[1;32m      <a href='vscode-notebook-cell:/Users/zora/Documents/HackUTD-X-App/natural_disaster.ipynb#X20sZmlsZQ%3D%3D?line=1'>2</a>\u001b[0m            aspect\u001b[39m=\u001b[39;49m\u001b[39m1.7\u001b[39;49m, height\u001b[39m=\u001b[39;49m\u001b[39m5\u001b[39;49m,markers\u001b[39m=\u001b[39;49m[\u001b[39m'\u001b[39;49m\u001b[39mo\u001b[39;49m\u001b[39m'\u001b[39;49m], scatter_kws\u001b[39m=\u001b[39;49m{\u001b[39m'\u001b[39;49m\u001b[39ms\u001b[39;49m\u001b[39m'\u001b[39;49m:\u001b[39m20\u001b[39;49m})\n",
      "File \u001b[0;32m~/.pyenv/versions/3.11.6/lib/python3.11/site-packages/seaborn/regression.py:611\u001b[0m, in \u001b[0;36mlmplot\u001b[0;34m(data, x, y, hue, col, row, palette, col_wrap, height, aspect, markers, sharex, sharey, hue_order, col_order, row_order, legend, legend_out, x_estimator, x_bins, x_ci, scatter, fit_reg, ci, n_boot, units, seed, order, logistic, lowess, robust, logx, x_partial, y_partial, truncate, x_jitter, y_jitter, scatter_kws, line_kws, facet_kws)\u001b[0m\n\u001b[1;32m    609\u001b[0m need_cols \u001b[39m=\u001b[39m [x, y, hue, col, row, units, x_partial, y_partial]\n\u001b[1;32m    610\u001b[0m cols \u001b[39m=\u001b[39m np\u001b[39m.\u001b[39munique([a \u001b[39mfor\u001b[39;00m a \u001b[39min\u001b[39;00m need_cols \u001b[39mif\u001b[39;00m a \u001b[39mis\u001b[39;00m \u001b[39mnot\u001b[39;00m \u001b[39mNone\u001b[39;00m])\u001b[39m.\u001b[39mtolist()\n\u001b[0;32m--> 611\u001b[0m data \u001b[39m=\u001b[39m data[cols]\n\u001b[1;32m    613\u001b[0m \u001b[39m# Initialize the grid\u001b[39;00m\n\u001b[1;32m    614\u001b[0m facets \u001b[39m=\u001b[39m FacetGrid(\n\u001b[1;32m    615\u001b[0m     data, row\u001b[39m=\u001b[39mrow, col\u001b[39m=\u001b[39mcol, hue\u001b[39m=\u001b[39mhue,\n\u001b[1;32m    616\u001b[0m     palette\u001b[39m=\u001b[39mpalette,\n\u001b[0;32m   (...)\u001b[0m\n\u001b[1;32m    619\u001b[0m     \u001b[39m*\u001b[39m\u001b[39m*\u001b[39mfacet_kws,\n\u001b[1;32m    620\u001b[0m )\n",
      "File \u001b[0;32m~/.pyenv/versions/3.11.6/lib/python3.11/site-packages/pandas/core/frame.py:3899\u001b[0m, in \u001b[0;36mDataFrame.__getitem__\u001b[0;34m(self, key)\u001b[0m\n\u001b[1;32m   3897\u001b[0m     \u001b[39mif\u001b[39;00m is_iterator(key):\n\u001b[1;32m   3898\u001b[0m         key \u001b[39m=\u001b[39m \u001b[39mlist\u001b[39m(key)\n\u001b[0;32m-> 3899\u001b[0m     indexer \u001b[39m=\u001b[39m \u001b[39mself\u001b[39;49m\u001b[39m.\u001b[39;49mcolumns\u001b[39m.\u001b[39;49m_get_indexer_strict(key, \u001b[39m\"\u001b[39;49m\u001b[39mcolumns\u001b[39;49m\u001b[39m\"\u001b[39;49m)[\u001b[39m1\u001b[39m]\n\u001b[1;32m   3901\u001b[0m \u001b[39m# take() does not accept boolean indexers\u001b[39;00m\n\u001b[1;32m   3902\u001b[0m \u001b[39mif\u001b[39;00m \u001b[39mgetattr\u001b[39m(indexer, \u001b[39m\"\u001b[39m\u001b[39mdtype\u001b[39m\u001b[39m\"\u001b[39m, \u001b[39mNone\u001b[39;00m) \u001b[39m==\u001b[39m \u001b[39mbool\u001b[39m:\n",
      "File \u001b[0;32m~/.pyenv/versions/3.11.6/lib/python3.11/site-packages/pandas/core/indexes/base.py:6114\u001b[0m, in \u001b[0;36mIndex._get_indexer_strict\u001b[0;34m(self, key, axis_name)\u001b[0m\n\u001b[1;32m   6111\u001b[0m \u001b[39melse\u001b[39;00m:\n\u001b[1;32m   6112\u001b[0m     keyarr, indexer, new_indexer \u001b[39m=\u001b[39m \u001b[39mself\u001b[39m\u001b[39m.\u001b[39m_reindex_non_unique(keyarr)\n\u001b[0;32m-> 6114\u001b[0m \u001b[39mself\u001b[39;49m\u001b[39m.\u001b[39;49m_raise_if_missing(keyarr, indexer, axis_name)\n\u001b[1;32m   6116\u001b[0m keyarr \u001b[39m=\u001b[39m \u001b[39mself\u001b[39m\u001b[39m.\u001b[39mtake(indexer)\n\u001b[1;32m   6117\u001b[0m \u001b[39mif\u001b[39;00m \u001b[39misinstance\u001b[39m(key, Index):\n\u001b[1;32m   6118\u001b[0m     \u001b[39m# GH 42790 - Preserve name from an Index\u001b[39;00m\n",
      "File \u001b[0;32m~/.pyenv/versions/3.11.6/lib/python3.11/site-packages/pandas/core/indexes/base.py:6178\u001b[0m, in \u001b[0;36mIndex._raise_if_missing\u001b[0;34m(self, key, indexer, axis_name)\u001b[0m\n\u001b[1;32m   6175\u001b[0m     \u001b[39mraise\u001b[39;00m \u001b[39mKeyError\u001b[39;00m(\u001b[39mf\u001b[39m\u001b[39m\"\u001b[39m\u001b[39mNone of [\u001b[39m\u001b[39m{\u001b[39;00mkey\u001b[39m}\u001b[39;00m\u001b[39m] are in the [\u001b[39m\u001b[39m{\u001b[39;00maxis_name\u001b[39m}\u001b[39;00m\u001b[39m]\u001b[39m\u001b[39m\"\u001b[39m)\n\u001b[1;32m   6177\u001b[0m not_found \u001b[39m=\u001b[39m \u001b[39mlist\u001b[39m(ensure_index(key)[missing_mask\u001b[39m.\u001b[39mnonzero()[\u001b[39m0\u001b[39m]]\u001b[39m.\u001b[39munique())\n\u001b[0;32m-> 6178\u001b[0m \u001b[39mraise\u001b[39;00m \u001b[39mKeyError\u001b[39;00m(\u001b[39mf\u001b[39m\u001b[39m\"\u001b[39m\u001b[39m{\u001b[39;00mnot_found\u001b[39m}\u001b[39;00m\u001b[39m not in index\u001b[39m\u001b[39m\"\u001b[39m)\n",
      "\u001b[0;31mKeyError\u001b[0m: \"['index'] not in index\""
     ]
    }
   ],
   "source": [
    "sns.lmplot(x='index',y='fy_declared',data=m.sort_values(by='fy_declared'),\n",
    "           aspect=1.7, height=5,markers=['o'], scatter_kws={'s':20})"
   ]
  },
  {
   "cell_type": "code",
   "execution_count": null,
   "metadata": {},
   "outputs": [],
   "source": [
    "m=df[['state','incident_type']].groupby('state').describe()\n",
    "m['incident_type'].sort_values(by='count',ascending=False).head(10)"
   ]
  },
  {
   "cell_type": "code",
   "execution_count": null,
   "metadata": {},
   "outputs": [],
   "source": [
    "m=df[['state','incident_type']].groupby('state').describe()\n",
    "sns.pairplot(m['incident_type'].reset_index(drop=True))"
   ]
  },
  {
   "cell_type": "code",
   "execution_count": null,
   "metadata": {},
   "outputs": [],
   "source": [
    "m['incident_type'].sort_values(by='freq',ascending=False)['freq'].head(10)"
   ]
  },
  {
   "cell_type": "code",
   "execution_count": null,
   "metadata": {},
   "outputs": [],
   "source": [
    "p = df[['state','incident_type']].groupby('state').count()\n",
    "p.reset_index(inplace=True)\n",
    "p=p.sort_values(by='incident_type',ascending=False).head(10)\n",
    "p"
   ]
  },
  {
   "cell_type": "code",
   "execution_count": null,
   "metadata": {},
   "outputs": [],
   "source": [
    "plt.pyplot.figure(figsize=(16,8))\n",
    "sns.barplot(x=\"state\", y=\"incident_type\", data=p,)"
   ]
  },
  {
   "cell_type": "code",
   "execution_count": null,
   "metadata": {},
   "outputs": [],
   "source": [
    "print(\"Texas mostly faces:\\n\")\n",
    "df[['state','incident_type']].groupby('state').max().loc['TX']"
   ]
  },
  {
   "cell_type": "code",
   "execution_count": null,
   "metadata": {},
   "outputs": [],
   "source": [
    "m=df.query('state==\"TX\"')['fy_declared'].value_counts().reset_index()\n",
    "m.head(10)"
   ]
  },
  {
   "cell_type": "code",
   "execution_count": null,
   "metadata": {},
   "outputs": [],
   "source": [
    "plt.pyplot.figure(figsize=(24,12))\n",
    "sns.barplot(x='index',y='fy_declared',data=m.sort_values(by='fy_declared'));"
   ]
  },
  {
   "cell_type": "code",
   "execution_count": null,
   "metadata": {},
   "outputs": [],
   "source": [
    "df.query('state == \"TX\" & fy_declared==\"2020\"')['incident_type'].unique()"
   ]
  },
  {
   "cell_type": "code",
   "execution_count": null,
   "metadata": {},
   "outputs": [],
   "source": [
    "print(\"Total Areas\\n\",df['designated_area'].nunique())"
   ]
  },
  {
   "cell_type": "code",
   "execution_count": null,
   "metadata": {},
   "outputs": [],
   "source": [
    "df[['designated_area','incident_type']].groupby('designated_area').count().sort_values(by='incident_type',ascending=False).head(10)"
   ]
  },
  {
   "cell_type": "code",
   "execution_count": null,
   "metadata": {},
   "outputs": [],
   "source": [
    "d = pd.to_datetime(df['declaration_date']).dt\n",
    "df['year'] = d.year\n",
    "df['month'] = d.month\n",
    "df['day'] = d.day\n",
    "df['time'] = d.time\n",
    "del df['declaration_date']"
   ]
  },
  {
   "cell_type": "code",
   "execution_count": null,
   "metadata": {},
   "outputs": [],
   "source": [
    "df['declaration_type'].value_counts()"
   ]
  },
  {
   "cell_type": "code",
   "execution_count": null,
   "metadata": {},
   "outputs": [],
   "source": [
    "df[['year','month','declaration_type']].groupby(['year','month']).describe()"
   ]
  },
  {
   "cell_type": "code",
   "execution_count": null,
   "metadata": {},
   "outputs": [],
   "source": [
    "m=df[['year','declaration_type']]\n",
    "plt.pyplot.figure(figsize=(8,5))\n",
    "sns.boxplot(x='declaration_type',y='year',data=m)"
   ]
  },
  {
   "cell_type": "code",
   "execution_count": null,
   "metadata": {},
   "outputs": [],
   "source": [
    "plt.pyplot.figure(figsize=(8,5))\n",
    "sns.barplot(x='index',y='declaration_type',data=df['declaration_type'].value_counts().reset_index())"
   ]
  },
  {
   "cell_type": "code",
   "execution_count": null,
   "metadata": {},
   "outputs": [],
   "source": [
    "m=df[['year','month','day','declaration_type']].groupby(['year','month','day']).count()\n",
    "m.reset_index().sort_values(by='declaration_type',ascending=False)"
   ]
  },
  {
   "cell_type": "code",
   "execution_count": null,
   "metadata": {},
   "outputs": [],
   "source": [
    "#13/03/20\n",
    "df.query('year==\"{0}\" & month==\"{1}\" & day ==\"{2}\"'.format(2020,3,13))['declaration_title'].value_counts()"
   ]
  },
  {
   "cell_type": "code",
   "execution_count": null,
   "metadata": {},
   "outputs": [],
   "source": [
    "m = df.query('year==\"{0}\" & declaration_title==\"Covid-19\"'.format(2020))\n",
    "plt.pyplot.figure(figsize=(20,10))\n",
    "sns.countplot(x='state',data=m.sort_values(by='time'))"
   ]
  },
  {
   "cell_type": "code",
   "execution_count": null,
   "metadata": {},
   "outputs": [],
   "source": [
    "#13/01/1996\n",
    "df.query('year==\"{0}\" & month==\"{1}\" & day ==\"{2}\"'.format(1996,1,13))['declaration_title'].unique()"
   ]
  },
  {
   "cell_type": "code",
   "execution_count": null,
   "metadata": {},
   "outputs": [],
   "source": [
    "df.query('year==\"{0}\" & month==\"{1}\" & day ==\"{2}\"'.format(2020,4,4))['declaration_title'].unique()"
   ]
  },
  {
   "cell_type": "code",
   "execution_count": null,
   "metadata": {},
   "outputs": [],
   "source": [
    "#September 2005\n",
    "m=df.query('year==\"{0}\" & month==\"{1}\"'.format(2005,9))\n",
    "m['declaration_title'].value_counts()"
   ]
  },
  {
   "cell_type": "code",
   "execution_count": null,
   "metadata": {},
   "outputs": [],
   "source": [
    "plt.pyplot.figure(figsize=(16,16))\n",
    "sns.countplot(x='declaration_title',data=m.sort_values(by='time'),hue='state')"
   ]
  },
  {
   "cell_type": "code",
   "execution_count": null,
   "metadata": {},
   "outputs": [],
   "source": [
    "m = df.query('ia_program_declared == \"0\" & ih_program_declared == \"0\" & pa_program_declared ==\"0\"')\n",
    "m['incident_type'].value_counts()"
   ]
  },
  {
   "cell_type": "code",
   "execution_count": null,
   "metadata": {},
   "outputs": [],
   "source": [
    "pt = df.pivot_table(values ='disaster_number', index = 'state', columns = 'year').fillna(0)\n",
    "plt.pyplot.figure(figsize=(12,8))\n",
    "sns.heatmap(pt, cmap='coolwarm')\n",
    "plt.pyplot.savefig('heatmap.png')"
   ]
  }
 ],
 "metadata": {
  "kernelspec": {
   "display_name": "Python 3",
   "language": "python",
   "name": "python3"
  },
  "language_info": {
   "codemirror_mode": {
    "name": "ipython",
    "version": 3
   },
   "file_extension": ".py",
   "mimetype": "text/x-python",
   "name": "python",
   "nbconvert_exporter": "python",
   "pygments_lexer": "ipython3",
   "version": "3.11.6"
  }
 },
 "nbformat": 4,
 "nbformat_minor": 2
}
