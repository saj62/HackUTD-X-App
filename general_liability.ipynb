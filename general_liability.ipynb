{
 "cells": [
  {
   "cell_type": "code",
   "execution_count": 15,
   "metadata": {},
   "outputs": [
    {
     "data": {
      "text/html": [
       "<div>\n",
       "<style scoped>\n",
       "    .dataframe tbody tr th:only-of-type {\n",
       "        vertical-align: middle;\n",
       "    }\n",
       "\n",
       "    .dataframe tbody tr th {\n",
       "        vertical-align: top;\n",
       "    }\n",
       "\n",
       "    .dataframe thead th {\n",
       "        text-align: right;\n",
       "    }\n",
       "</style>\n",
       "<table border=\"1\" class=\"dataframe\">\n",
       "  <thead>\n",
       "    <tr style=\"text-align: right;\">\n",
       "      <th></th>\n",
       "      <th>INDUSTRY_CATEGORIES</th>\n",
       "      <th>NUMBER_OF_EMPLOYEES</th>\n",
       "      <th>AGE</th>\n",
       "      <th>ANNUAL_REVENUE</th>\n",
       "      <th>LOWER_BOUND</th>\n",
       "      <th>UPPER_BOUND</th>\n",
       "      <th>GENERAL_LIABILITY</th>\n",
       "    </tr>\n",
       "  </thead>\n",
       "  <tbody>\n",
       "    <tr>\n",
       "      <th>0</th>\n",
       "      <td>Agriculture</td>\n",
       "      <td>6</td>\n",
       "      <td>10</td>\n",
       "      <td>38562</td>\n",
       "      <td>1000</td>\n",
       "      <td>3000</td>\n",
       "      <td>2420</td>\n",
       "    </tr>\n",
       "    <tr>\n",
       "      <th>1</th>\n",
       "      <td>Agriculture</td>\n",
       "      <td>9</td>\n",
       "      <td>12</td>\n",
       "      <td>31964</td>\n",
       "      <td>1000</td>\n",
       "      <td>3000</td>\n",
       "      <td>2093</td>\n",
       "    </tr>\n",
       "    <tr>\n",
       "      <th>2</th>\n",
       "      <td>Agriculture</td>\n",
       "      <td>2</td>\n",
       "      <td>9</td>\n",
       "      <td>38245</td>\n",
       "      <td>1000</td>\n",
       "      <td>3000</td>\n",
       "      <td>2723</td>\n",
       "    </tr>\n",
       "    <tr>\n",
       "      <th>3</th>\n",
       "      <td>Agriculture</td>\n",
       "      <td>8</td>\n",
       "      <td>6</td>\n",
       "      <td>43705</td>\n",
       "      <td>1000</td>\n",
       "      <td>3000</td>\n",
       "      <td>1226</td>\n",
       "    </tr>\n",
       "    <tr>\n",
       "      <th>4</th>\n",
       "      <td>Agriculture</td>\n",
       "      <td>10</td>\n",
       "      <td>12</td>\n",
       "      <td>52276</td>\n",
       "      <td>1000</td>\n",
       "      <td>3000</td>\n",
       "      <td>1125</td>\n",
       "    </tr>\n",
       "  </tbody>\n",
       "</table>\n",
       "</div>"
      ],
      "text/plain": [
       "  INDUSTRY_CATEGORIES  NUMBER_OF_EMPLOYEES  AGE  ANNUAL_REVENUE  LOWER_BOUND  \\\n",
       "0         Agriculture                    6   10           38562         1000   \n",
       "1         Agriculture                    9   12           31964         1000   \n",
       "2         Agriculture                    2    9           38245         1000   \n",
       "3         Agriculture                    8    6           43705         1000   \n",
       "4         Agriculture                   10   12           52276         1000   \n",
       "\n",
       "   UPPER_BOUND  GENERAL_LIABILITY  \n",
       "0         3000               2420  \n",
       "1         3000               2093  \n",
       "2         3000               2723  \n",
       "3         3000               1226  \n",
       "4         3000               1125  "
      ]
     },
     "execution_count": 15,
     "metadata": {},
     "output_type": "execute_result"
    }
   ],
   "source": [
    "import numpy as np\n",
    "import pandas as pd\n",
    "import os\n",
    "import seaborn as sns\n",
    "import matplotlib as plt\n",
    "\n",
    "#change path to dfset\n",
    "df = pd.read_csv(\"datasets/general_liability.csv\")\n",
    "df = df.drop(df.index[-2])\n",
    "df.head()\n"
   ]
  },
  {
   "cell_type": "code",
   "execution_count": 31,
   "metadata": {},
   "outputs": [],
   "source": [
    "#plt.pyplot.figure(figsize=(24,12))\n",
    "#sns.barplot(x=df['INDUSTRY_CATEGORIES'], y=df['GENERAL_LIABILITY']/df['INDUSTRY_CATEGORIES'].count())"
   ]
  },
  {
   "cell_type": "code",
   "execution_count": 63,
   "metadata": {},
   "outputs": [],
   "source": [
    "#model\n",
    "from sklearn.linear_model import LinearRegression\n",
    "from sklearn.model_selection import train_test_split\n",
    "\n",
    "def predictingByCategory(categoryInput):\n",
    "    category = 'INDUSTRY_CATEGORIES == \"' + str(categoryInput) + '\"'\n",
    "    m=df.query(category)\n",
    "    m.head()\n",
    "    \n",
    "    train = m.drop(['INDUSTRY_CATEGORIES','LOWER_BOUND', 'UPPER_BOUND', 'GENERAL_LIABILITY'], axis=1)\n",
    "    train.isnull().sum()\n",
    "    test = m['GENERAL_LIABILITY']\n",
    "    \n",
    "    #return train, test\n",
    "\n",
    "    X_train, X_test, y_train, y_test = train_test_split(train, test, test_size=0.3, random_state=2)\n",
    "    regr = LinearRegression()\n",
    "    regr.fit(X_train, y_train)\n",
    "\n",
    "    pred = regr.predict(X_test)\n",
    "    return regr.score(X_test, y_test)\n"
   ]
  },
  {
   "cell_type": "code",
   "execution_count": 64,
   "metadata": {},
   "outputs": [
    {
     "data": {
      "text/plain": [
       "-0.42366775442751536"
      ]
     },
     "execution_count": 64,
     "metadata": {},
     "output_type": "execute_result"
    }
   ],
   "source": [
    "predictingByCategory(\"Agriculture\")"
   ]
  }
 ],
 "metadata": {
  "kernelspec": {
   "display_name": "Python 3",
   "language": "python",
   "name": "python3"
  },
  "language_info": {
   "codemirror_mode": {
    "name": "ipython",
    "version": 3
   },
   "file_extension": ".py",
   "mimetype": "text/x-python",
   "name": "python",
   "nbconvert_exporter": "python",
   "pygments_lexer": "ipython3",
   "version": "3.11.6"
  }
 },
 "nbformat": 4,
 "nbformat_minor": 2
}
